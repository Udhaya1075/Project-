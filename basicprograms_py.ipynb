{
  "nbformat": 4,
  "nbformat_minor": 0,
  "metadata": {
    "colab": {
      "provenance": [],
      "authorship_tag": "ABX9TyNkoWl/I/DsN/JY96S1EA8L",
      "include_colab_link": true
    },
    "kernelspec": {
      "name": "python3",
      "display_name": "Python 3"
    },
    "language_info": {
      "name": "python"
    }
  },
  "cells": [
    {
      "cell_type": "markdown",
      "metadata": {
        "id": "view-in-github",
        "colab_type": "text"
      },
      "source": [
        "<a href=\"https://colab.research.google.com/github/Udhaya1075/Project-/blob/main/basicprograms_py.ipynb\" target=\"_parent\"><img src=\"https://colab.research.google.com/assets/colab-badge.svg\" alt=\"Open In Colab\"/></a>"
      ]
    },
    {
      "cell_type": "code",
      "source": [
        "class Rectangle:\n",
        "    def __init__(self, length, width):\n",
        "        self.length = length\n",
        "        self.width = width\n",
        "    def area (self ):\n",
        "        print (self.length * self.width)\n",
        "    def perimeter(self):\n",
        "        print(2*(self.length+self.width))\n",
        "    def checksquare(self):\n",
        "        if self.length == self.width :\n",
        "          print (\"It is square\")\n",
        "        else :\n",
        "          print(\"Not square\")\n",
        "\n",
        "a=Rectangle (4,6)\n",
        "a.area()\n",
        "a.perimeter()\n",
        "a.checksquare()"
      ],
      "metadata": {
        "colab": {
          "base_uri": "https://localhost:8080/"
        },
        "id": "w-Af46NMX7nk",
        "outputId": "8a292326-5380-4d03-c8a3-608375a235d7"
      },
      "execution_count": 12,
      "outputs": [
        {
          "output_type": "stream",
          "name": "stdout",
          "text": [
            "24\n",
            "20\n",
            "Not square\n"
          ]
        }
      ]
    },
    {
      "cell_type": "code",
      "source": [
        "class Shapes :\n",
        "  def __init__ (self,b):\n",
        "\n",
        "    self.b=b\n",
        "  def calculate(self):\n",
        "     if self.b==\"square\":\n",
        "\n",
        "         print(\"SQUARE\")\n",
        "         a=int(input(\"Enter length of the square :\"))\n",
        "\n",
        "         print(\"The area of the square :\",a*a)\n",
        "\n",
        "         print(\"The perimeter of the square :\",4*a)\n",
        "     elif self.b ==\"rectangle\" :\n",
        "         print(\"RECTANGLE\")\n",
        "         length=int(input(\"Enter length of the reactangle :\"))\n",
        "         width=int(input(\"Enter width of the rectangle :\"))\n",
        "         print(\"The area of the Rectangle :\",length * width)\n",
        "         print( \" The perimeter of the Rectangle :\", 2*(length+width))\n",
        "     else:\n",
        "         print(\"Invalid shape\")\n",
        "\n",
        "shape_type = input()\n",
        "n = Shapes(shape_type)\n",
        "n.calculate()"
      ],
      "metadata": {
        "colab": {
          "base_uri": "https://localhost:8080/"
        },
        "id": "aaHdO5xEp6PW",
        "outputId": "95e25837-6321-45da-e838-a4466a02afdc"
      },
      "execution_count": 52,
      "outputs": [
        {
          "output_type": "stream",
          "name": "stdout",
          "text": [
            "square\n",
            "SQUARE\n",
            "Enter length of the square :3\n",
            "The area of the square : 9\n",
            "The perimeter of the square : 12\n"
          ]
        }
      ]
    },
    {
      "cell_type": "code",
      "source": [
        "class bakery :\n",
        "  def __init__ (self):\n",
        "    self.customers =[]\n",
        "\n",
        "  def userinput (self) :\n",
        "    i=0\n",
        "    while (i < 4) :\n",
        "      customers = input (\"Enter the customers names :\")\n",
        "      self.customers.append(customers)\n",
        "\n",
        "      i=i+1\n",
        "\n",
        "\n",
        "  def display(self):\n",
        "      print (\"Serving :\",self.customers)\n",
        "\n",
        "\n",
        "obj=bakery()\n",
        "obj.userinput()\n",
        "obj.display()\n",
        "\n",
        ""
      ],
      "metadata": {
        "colab": {
          "base_uri": "https://localhost:8080/"
        },
        "id": "a34ZN8kptHUm",
        "outputId": "1eb5332b-1aa2-485e-ea2e-6df494c7c35b"
      },
      "execution_count": 67,
      "outputs": [
        {
          "output_type": "stream",
          "name": "stdout",
          "text": [
            "Enter the customers names :cus1\n",
            "Enter the customers names :cus2\n",
            "Enter the customers names :cus3\n",
            "Enter the customers names :cus4\n",
            "Serving : ['cus1', 'cus2', 'cus3', 'cus4']\n"
          ]
        }
      ]
    },
    {
      "cell_type": "code",
      "source": [
        "class bakery :\n",
        "  def __init__ (self):\n",
        "    self.customers =[]\n",
        "\n",
        "  def userinput (self) :\n",
        "    i=0\n",
        "    while (i < 4) :\n",
        "      customers = input (\"Enter the customers names :\")\n",
        "      i=i+1\n",
        "\n",
        "\n",
        "  def display(self):\n",
        "    i=0\n",
        "    while (i<4):\n",
        "\n",
        "      print (\"Serving :\",self.customers)\n",
        "      i+=0\n",
        "\n",
        "\n",
        "obj=bakery()\n",
        "obj.userinput()\n",
        "obj.display()"
      ],
      "metadata": {
        "id": "jdfipCytwdns"
      },
      "execution_count": null,
      "outputs": []
    },
    {
      "cell_type": "code",
      "source": [
        "class divide  :\n",
        "  def __init__ (self,n):\n",
        "    self.n=n\n",
        "  def func (self):\n",
        "    quotient = n //3\n",
        "    remainder = n%3\n",
        "    print(quotient)\n",
        "    print(remainder)\n",
        "\n",
        "o=divide(6)\n",
        "o.func ()"
      ],
      "metadata": {
        "id": "HH3KmPtuw5-k"
      },
      "execution_count": null,
      "outputs": []
    },
    {
      "cell_type": "code",
      "source": [
        "class oned :\n",
        "  def __init__(self,list):\n",
        "    self.list=list\n",
        "  def seperates(self) :\n",
        "     i=0\n",
        "     while(i<3):\n",
        "      print (list)\n",
        "      i+=1\n",
        "     break\n",
        "\n",
        "list =[1,2,3,4,5,6,7,8,0]\n",
        "a=oned()\n",
        "a.seperates ()\n",
        "\n"
      ],
      "metadata": {
        "id": "Vxfd3pjfyJcD"
      },
      "execution_count": null,
      "outputs": []
    },
    {
      "cell_type": "code",
      "source": [],
      "metadata": {
        "id": "xv_i5c840WfE"
      },
      "execution_count": null,
      "outputs": []
    }
  ]
}